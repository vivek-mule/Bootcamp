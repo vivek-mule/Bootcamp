{
 "cells": [
  {
   "cell_type": "code",
   "execution_count": 1,
   "metadata": {},
   "outputs": [
    {
     "name": "stdout",
     "output_type": "stream",
     "text": [
      "4.10.0\n"
     ]
    }
   ],
   "source": [
    "import cv2\n",
    "\n",
    "print(cv2.__version__)"
   ]
  },
  {
   "cell_type": "code",
   "execution_count": 2,
   "metadata": {},
   "outputs": [],
   "source": [
    "# Loading and Displaying the Image\n",
    "\n",
    "img = cv2.imread(\"C:/Users/vivek/OneDrive/Desktop/Bootcamp/In Class/Day 4/sample.jpg\")\n",
    "\n",
    "cv2.imshow(\"Taj Mahal\", img)\n",
    "cv2.waitKey(0)\n",
    "cv2.destroyAllWindows()"
   ]
  },
  {
   "cell_type": "code",
   "execution_count": 3,
   "metadata": {},
   "outputs": [],
   "source": [
    "# Basic Image Operations\n",
    "\n",
    "# Resize the Image\n",
    "\n",
    "resized_img = cv2.resize(img, (1000, 500))\n",
    "cv2.imshow(\"Resized Image\", resized_img)\n",
    "cv2.waitKey(0)\n",
    "cv2.destroyAllWindows()"
   ]
  },
  {
   "cell_type": "code",
   "execution_count": 4,
   "metadata": {},
   "outputs": [],
   "source": [
    "# Convert to Greyscale Image\n",
    "\n",
    "grey_img = cv2.cvtColor(img, cv2.COLOR_RGB2GRAY)\n",
    "cv2.imshow(\"Grey Scale Image\", grey_img)\n",
    "cv2.waitKey(0)\n",
    "cv2.destroyAllWindows()"
   ]
  },
  {
   "cell_type": "code",
   "execution_count": 5,
   "metadata": {},
   "outputs": [],
   "source": [
    "# Cropping the Image\n",
    "\n",
    "crop_img = resized_img[1:, 1:466]\n",
    "cv2.imshow(\"Cropped Image\", crop_img)\n",
    "cv2.waitKey(0)\n",
    "cv2.destroyAllWindows()"
   ]
  },
  {
   "cell_type": "code",
   "execution_count": 6,
   "metadata": {},
   "outputs": [],
   "source": [
    "# Rotating an Image\n",
    "\n",
    "(h, w) = resized_img.shape[:2]\n",
    "center = (w // 2, h // 2)\n",
    "M = cv2.getRotationMatrix2D(center, 12, 1.0)\n",
    "rotated_img = cv2.warpAffine(resized_img, M, (w, h))\n",
    "\n",
    "cv2.imshow(\"Rotated Image\", rotated_img)\n",
    "cv2.waitKey(0)\n",
    "cv2.destroyAllWindows()"
   ]
  },
  {
   "cell_type": "code",
   "execution_count": 7,
   "metadata": {},
   "outputs": [],
   "source": [
    "# Blurring Image\n",
    "\n",
    "# Gaussian Blurring\n",
    "blur_img = cv2.GaussianBlur(resized_img, (5, 5), 0)\n",
    "\n",
    "cv2.imshow(\"Gaussian Blurred Image\", blur_img)\n",
    "cv2.waitKey(0)\n",
    "cv2.destroyAllWindows()"
   ]
  },
  {
   "cell_type": "code",
   "execution_count": 8,
   "metadata": {},
   "outputs": [],
   "source": [
    "# Median Blurring\n",
    "\n",
    "median_blur_img = cv2.medianBlur(resized_img, 5)\n",
    "\n",
    "cv2.imshow(\"Meadin Blurred Image\", median_blur_img)\n",
    "cv2.waitKey(0)\n",
    "cv2.destroyAllWindows()"
   ]
  },
  {
   "cell_type": "code",
   "execution_count": 9,
   "metadata": {},
   "outputs": [],
   "source": [
    "# Bilateral Blurring\n",
    "\n",
    "bilateral_blur_img = cv2.bilateralFilter(resized_img, 27, 150, 75)\n",
    "\n",
    "cv2.imshow(\"Bilateral Blurred Image\", bilateral_blur_img)\n",
    "cv2.waitKey(0)\n",
    "cv2.destroyAllWindows()"
   ]
  },
  {
   "cell_type": "code",
   "execution_count": 10,
   "metadata": {},
   "outputs": [],
   "source": [
    "# Average Blurring\n",
    "\n",
    "average_blur_img = cv2.blur(resized_img, (500, 5))\n",
    "\n",
    "cv2.imshow(\"Average Blurred Image\", average_blur_img)\n",
    "cv2.waitKey(0)\n",
    "cv2.destroyAllWindows()"
   ]
  },
  {
   "cell_type": "code",
   "execution_count": 11,
   "metadata": {},
   "outputs": [],
   "source": [
    "# Image Thresholding Techniques\n",
    "\n",
    "# Binary Thresholding\n",
    "\n",
    "_, tresh_img = cv2.threshold(grey_img, 127, 255, cv2.THRESH_BINARY)\n",
    "\n",
    "cv2.imshow(\"Binary Treshold Image\", tresh_img)\n",
    "cv2.waitKey(0)\n",
    "cv2.destroyAllWindows()"
   ]
  },
  {
   "cell_type": "code",
   "execution_count": 12,
   "metadata": {},
   "outputs": [],
   "source": [
    "# Inverse Binary Thresholding\n",
    "\n",
    "_, tresh_img = cv2.threshold(grey_img, 127, 255, cv2.THRESH_BINARY_INV)\n",
    "\n",
    "cv2.imshow(\"Inverse Binary Treshold Image\", tresh_img)\n",
    "cv2.waitKey(0)\n",
    "cv2.destroyAllWindows()"
   ]
  },
  {
   "cell_type": "code",
   "execution_count": 13,
   "metadata": {},
   "outputs": [],
   "source": [
    "# Truncated Thresholding\n",
    "\n",
    "_, tresh_img = cv2.threshold(grey_img, 127, 255, cv2.THRESH_TRUNC)\n",
    "\n",
    "cv2.imshow(\"Truncated Treshold Image\", tresh_img)\n",
    "cv2.waitKey(0)\n",
    "cv2.destroyAllWindows()"
   ]
  },
  {
   "cell_type": "code",
   "execution_count": 14,
   "metadata": {},
   "outputs": [],
   "source": [
    "# Zero Thresholding\n",
    "\n",
    "_, tresh_img = cv2.threshold(grey_img, 127, 255, cv2.THRESH_TOZERO)\n",
    "\n",
    "cv2.imshow(\"Zero Treshold Image\", tresh_img)\n",
    "cv2.waitKey(0)\n",
    "cv2.destroyAllWindows()"
   ]
  },
  {
   "cell_type": "code",
   "execution_count": 15,
   "metadata": {},
   "outputs": [],
   "source": [
    "# Inverse Zero Thresholding\n",
    "\n",
    "_, tresh_img = cv2.threshold(grey_img, 127, 255, cv2.THRESH_TOZERO_INV)\n",
    "\n",
    "cv2.imshow(\"Inverse Zero Treshold Image\", tresh_img)\n",
    "cv2.waitKey(0)\n",
    "cv2.destroyAllWindows()"
   ]
  },
  {
   "cell_type": "code",
   "execution_count": 16,
   "metadata": {},
   "outputs": [],
   "source": [
    "# Adaptive Thresholding\n",
    "\n",
    "adaptive_tresh_img = cv2.adaptiveThreshold(grey_img, 255, cv2.ADAPTIVE_THRESH_GAUSSIAN_C, cv2.THRESH_BINARY, 11, 2)\n",
    "\n",
    "cv2.imshow(\"Adaptive Treshold Image\", tresh_img)\n",
    "cv2.waitKey(0)\n",
    "cv2.destroyAllWindows()"
   ]
  },
  {
   "cell_type": "code",
   "execution_count": 17,
   "metadata": {},
   "outputs": [],
   "source": [
    "# Edge Detection\n",
    "\n",
    "# Canny Edge Detection\n",
    "edges = cv2.Canny(resized_img, 900, 180)\n",
    "\n",
    "cv2.imshow(\"Canny Edges\", edges)\n",
    "cv2.waitKey(0)\n",
    "cv2.destroyAllWindows()"
   ]
  }
 ],
 "metadata": {
  "kernelspec": {
   "display_name": "Python 3",
   "language": "python",
   "name": "python3"
  },
  "language_info": {
   "codemirror_mode": {
    "name": "ipython",
    "version": 3
   },
   "file_extension": ".py",
   "mimetype": "text/x-python",
   "name": "python",
   "nbconvert_exporter": "python",
   "pygments_lexer": "ipython3",
   "version": "3.9.13"
  }
 },
 "nbformat": 4,
 "nbformat_minor": 2
}
